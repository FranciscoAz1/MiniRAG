{
 "cells": [
  {
   "cell_type": "code",
   "execution_count": 1,
   "id": "775dcfd8",
   "metadata": {},
   "outputs": [
    {
     "name": "stderr",
     "output_type": "stream",
     "text": [
      "...\n",
      "----------------------------------------------------------------------\n",
      "Ran 3 tests in 0.001s\n",
      "\n",
      "OK\n"
     ]
    }
   ],
   "source": [
    "import unittest\n",
    "from typing import List, Tuple\n",
    "\n",
    "def simple_overlap_rerank(query: str, documents: List[Tuple[str, str]]) -> List[Tuple[str, str, int]]:\n",
    "    \"\"\"\n",
    "    Rerank documents by simple token overlap count with the query.\n",
    "    Returns list of (doc_id, text, score) sorted by score desc then original order (stable).\n",
    "    \"\"\"\n",
    "    q_tokens = query.lower().split()\n",
    "    q_set = set(q_tokens)\n",
    "    scored = []\n",
    "    for doc_id, text in documents:\n",
    "        tokens = text.lower().split()\n",
    "        score = sum(1 for t in tokens if t in q_set)\n",
    "        scored.append((doc_id, text, score))\n",
    "    # stable sort by negative score\n",
    "    scored.sort(key=lambda x: -x[2])\n",
    "    return scored\n",
    "\n",
    "class TestTextReranker(unittest.TestCase):\n",
    "    def setUp(self):\n",
    "        self.query = \"cat on mat\"\n",
    "        self.documents = [\n",
    "            (\"d1\", \"The cat sits on the mat\"),\n",
    "            (\"d2\", \"Quantum physics and relativity\"),\n",
    "            (\"d3\", \"Cat and mat story about a playful cat on a mat\"),\n",
    "        ]\n",
    "\n",
    "    def test_rerank_order(self):\n",
    "        reranked = simple_overlap_rerank(self.query, self.documents)\n",
    "        ordered_ids = [d[0] for d in reranked]\n",
    "        self.assertEqual(ordered_ids, [\"d3\", \"d1\", \"d2\"])\n",
    "        # Check scores strictly descending\n",
    "        scores = [d[2] for d in reranked]\n",
    "        self.assertTrue(all(scores[i] >= scores[i+1] for i in range(len(scores)-1)))\n",
    "\n",
    "    def test_zero_overlap(self):\n",
    "        q = \"neural network\"\n",
    "        reranked = simple_overlap_rerank(q, self.documents)\n",
    "        # All scores should be 0\n",
    "        self.assertTrue(all(s == 0 for *_, s in reranked))\n",
    "\n",
    "    def test_stability(self):\n",
    "        # Add another doc with identical score to d1\n",
    "        docs = self.documents + [(\"d4\", \"Cat on mat\")]\n",
    "        reranked = simple_overlap_rerank(self.query, docs)\n",
    "        # d3 still first\n",
    "        self.assertEqual(reranked[0][0], \"d3\")\n",
    "        # d1 should appear before d4 because of stability (both same score, d1 came first)\n",
    "        ids = [d[0] for d in reranked]\n",
    "        self.assertTrue(ids.index(\"d1\") < ids.index(\"d4\"))\n",
    "\n",
    "if __name__ == \"__main__\":\n",
    "    unittest.main(argv=[\"-v\"], exit=False)"
   ]
  }
 ],
 "metadata": {
  "kernelspec": {
   "display_name": "tese",
   "language": "python",
   "name": "python3"
  },
  "language_info": {
   "codemirror_mode": {
    "name": "ipython",
    "version": 3
   },
   "file_extension": ".py",
   "mimetype": "text/x-python",
   "name": "python",
   "nbconvert_exporter": "python",
   "pygments_lexer": "ipython3",
   "version": "3.12.9"
  }
 },
 "nbformat": 4,
 "nbformat_minor": 5
}
